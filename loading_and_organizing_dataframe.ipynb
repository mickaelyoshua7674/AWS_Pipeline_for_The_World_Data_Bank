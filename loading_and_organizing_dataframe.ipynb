{
 "cells": [
  {
   "cell_type": "code",
   "execution_count": 5,
   "metadata": {},
   "outputs": [],
   "source": [
    "import findspark\n",
    "findspark.init(r\"C:\\Spark\\spark-3.2.3-bin-hadoop3.2\")"
   ]
  },
  {
   "cell_type": "code",
   "execution_count": 6,
   "metadata": {},
   "outputs": [],
   "source": [
    "import urllib.request\n",
    "from zipfile import ZipFile\n",
    "from io import TextIOWrapper\n",
    "import csv\n",
    "from pyspark.sql import SparkSession\n",
    "from pyspark.sql.types import StructType, StructField, StringType, FloatType"
   ]
  },
  {
   "cell_type": "code",
   "execution_count": 7,
   "metadata": {},
   "outputs": [],
   "source": [
    "url = \"https://databank.worldbank.org/data/download/WDI_CSV.zip\"\n",
    "filehandle, _ = urllib.request.urlretrieve(url)\n",
    "\n",
    "with ZipFile(filehandle, \"r\") as zf:\n",
    "    index = 0\n",
    "    for count, name in enumerate(zf.namelist()):\n",
    "        if name == \"WDIData.csv\":\n",
    "            index += count\n",
    "    target_file = zf.namelist()[index]\n",
    "    with zf.open(target_file, \"r\") as infile:\n",
    "        reader = csv.reader(TextIOWrapper(infile, 'utf-8'))\n",
    "        rows = []\n",
    "        for row in reader:\n",
    "            rows.append(row)"
   ]
  },
  {
   "cell_type": "code",
   "execution_count": 8,
   "metadata": {},
   "outputs": [],
   "source": [
    "headers = rows[0]\n",
    "data = rows[1:]"
   ]
  },
  {
   "cell_type": "code",
   "execution_count": 9,
   "metadata": {},
   "outputs": [],
   "source": [
    "structure = []\n",
    "for h in headers:\n",
    "    structure.append(StructField(name=h, dataType=StringType(), nullable=True))\n",
    "schema = StructType(structure)"
   ]
  },
  {
   "cell_type": "code",
   "execution_count": 10,
   "metadata": {},
   "outputs": [],
   "source": [
    "spark = SparkSession.builder.appName(\"world_data_bank\").getOrCreate()"
   ]
  },
  {
   "cell_type": "code",
   "execution_count": 11,
   "metadata": {},
   "outputs": [
    {
     "name": "stdout",
     "output_type": "stream",
     "text": [
      "root\n",
      " |-- ﻿\"Country Name\": string (nullable = true)\n",
      " |-- Country Code: string (nullable = true)\n",
      " |-- Indicator Name: string (nullable = true)\n",
      " |-- Indicator Code: string (nullable = true)\n",
      " |-- 1960: string (nullable = true)\n",
      " |-- 1961: string (nullable = true)\n",
      " |-- 1962: string (nullable = true)\n",
      " |-- 1963: string (nullable = true)\n",
      " |-- 1964: string (nullable = true)\n",
      " |-- 1965: string (nullable = true)\n",
      " |-- 1966: string (nullable = true)\n",
      " |-- 1967: string (nullable = true)\n",
      " |-- 1968: string (nullable = true)\n",
      " |-- 1969: string (nullable = true)\n",
      " |-- 1970: string (nullable = true)\n",
      " |-- 1971: string (nullable = true)\n",
      " |-- 1972: string (nullable = true)\n",
      " |-- 1973: string (nullable = true)\n",
      " |-- 1974: string (nullable = true)\n",
      " |-- 1975: string (nullable = true)\n",
      " |-- 1976: string (nullable = true)\n",
      " |-- 1977: string (nullable = true)\n",
      " |-- 1978: string (nullable = true)\n",
      " |-- 1979: string (nullable = true)\n",
      " |-- 1980: string (nullable = true)\n",
      " |-- 1981: string (nullable = true)\n",
      " |-- 1982: string (nullable = true)\n",
      " |-- 1983: string (nullable = true)\n",
      " |-- 1984: string (nullable = true)\n",
      " |-- 1985: string (nullable = true)\n",
      " |-- 1986: string (nullable = true)\n",
      " |-- 1987: string (nullable = true)\n",
      " |-- 1988: string (nullable = true)\n",
      " |-- 1989: string (nullable = true)\n",
      " |-- 1990: string (nullable = true)\n",
      " |-- 1991: string (nullable = true)\n",
      " |-- 1992: string (nullable = true)\n",
      " |-- 1993: string (nullable = true)\n",
      " |-- 1994: string (nullable = true)\n",
      " |-- 1995: string (nullable = true)\n",
      " |-- 1996: string (nullable = true)\n",
      " |-- 1997: string (nullable = true)\n",
      " |-- 1998: string (nullable = true)\n",
      " |-- 1999: string (nullable = true)\n",
      " |-- 2000: string (nullable = true)\n",
      " |-- 2001: string (nullable = true)\n",
      " |-- 2002: string (nullable = true)\n",
      " |-- 2003: string (nullable = true)\n",
      " |-- 2004: string (nullable = true)\n",
      " |-- 2005: string (nullable = true)\n",
      " |-- 2006: string (nullable = true)\n",
      " |-- 2007: string (nullable = true)\n",
      " |-- 2008: string (nullable = true)\n",
      " |-- 2009: string (nullable = true)\n",
      " |-- 2010: string (nullable = true)\n",
      " |-- 2011: string (nullable = true)\n",
      " |-- 2012: string (nullable = true)\n",
      " |-- 2013: string (nullable = true)\n",
      " |-- 2014: string (nullable = true)\n",
      " |-- 2015: string (nullable = true)\n",
      " |-- 2016: string (nullable = true)\n",
      " |-- 2017: string (nullable = true)\n",
      " |-- 2018: string (nullable = true)\n",
      " |-- 2019: string (nullable = true)\n",
      " |-- 2020: string (nullable = true)\n",
      " |-- 2021: string (nullable = true)\n",
      "\n"
     ]
    }
   ],
   "source": [
    "df = spark.createDataFrame(data=data,schema=schema).drop(\"\")\n",
    "df.printSchema()"
   ]
  },
  {
   "cell_type": "code",
   "execution_count": 12,
   "metadata": {},
   "outputs": [
    {
     "name": "stdout",
     "output_type": "stream",
     "text": [
      "root\n",
      " |-- country_name: string (nullable = true)\n",
      " |-- country_code: string (nullable = true)\n",
      " |-- indicator_name: string (nullable = true)\n",
      " |-- indicator_code: string (nullable = true)\n",
      " |-- 1960: string (nullable = true)\n",
      " |-- 1961: string (nullable = true)\n",
      " |-- 1962: string (nullable = true)\n",
      " |-- 1963: string (nullable = true)\n",
      " |-- 1964: string (nullable = true)\n",
      " |-- 1965: string (nullable = true)\n",
      " |-- 1966: string (nullable = true)\n",
      " |-- 1967: string (nullable = true)\n",
      " |-- 1968: string (nullable = true)\n",
      " |-- 1969: string (nullable = true)\n",
      " |-- 1970: string (nullable = true)\n",
      " |-- 1971: string (nullable = true)\n",
      " |-- 1972: string (nullable = true)\n",
      " |-- 1973: string (nullable = true)\n",
      " |-- 1974: string (nullable = true)\n",
      " |-- 1975: string (nullable = true)\n",
      " |-- 1976: string (nullable = true)\n",
      " |-- 1977: string (nullable = true)\n",
      " |-- 1978: string (nullable = true)\n",
      " |-- 1979: string (nullable = true)\n",
      " |-- 1980: string (nullable = true)\n",
      " |-- 1981: string (nullable = true)\n",
      " |-- 1982: string (nullable = true)\n",
      " |-- 1983: string (nullable = true)\n",
      " |-- 1984: string (nullable = true)\n",
      " |-- 1985: string (nullable = true)\n",
      " |-- 1986: string (nullable = true)\n",
      " |-- 1987: string (nullable = true)\n",
      " |-- 1988: string (nullable = true)\n",
      " |-- 1989: string (nullable = true)\n",
      " |-- 1990: string (nullable = true)\n",
      " |-- 1991: string (nullable = true)\n",
      " |-- 1992: string (nullable = true)\n",
      " |-- 1993: string (nullable = true)\n",
      " |-- 1994: string (nullable = true)\n",
      " |-- 1995: string (nullable = true)\n",
      " |-- 1996: string (nullable = true)\n",
      " |-- 1997: string (nullable = true)\n",
      " |-- 1998: string (nullable = true)\n",
      " |-- 1999: string (nullable = true)\n",
      " |-- 2000: string (nullable = true)\n",
      " |-- 2001: string (nullable = true)\n",
      " |-- 2002: string (nullable = true)\n",
      " |-- 2003: string (nullable = true)\n",
      " |-- 2004: string (nullable = true)\n",
      " |-- 2005: string (nullable = true)\n",
      " |-- 2006: string (nullable = true)\n",
      " |-- 2007: string (nullable = true)\n",
      " |-- 2008: string (nullable = true)\n",
      " |-- 2009: string (nullable = true)\n",
      " |-- 2010: string (nullable = true)\n",
      " |-- 2011: string (nullable = true)\n",
      " |-- 2012: string (nullable = true)\n",
      " |-- 2013: string (nullable = true)\n",
      " |-- 2014: string (nullable = true)\n",
      " |-- 2015: string (nullable = true)\n",
      " |-- 2016: string (nullable = true)\n",
      " |-- 2017: string (nullable = true)\n",
      " |-- 2018: string (nullable = true)\n",
      " |-- 2019: string (nullable = true)\n",
      " |-- 2020: string (nullable = true)\n",
      " |-- 2021: string (nullable = true)\n",
      "\n"
     ]
    }
   ],
   "source": [
    "df = df.withColumnRenamed('﻿\"Country Name\"', \"country_name\") \\\n",
    "    .withColumnRenamed(\"Country Code\", \"country_code\") \\\n",
    "    .withColumnRenamed(\"Indicator Name\", \"indicator_name\") \\\n",
    "    .withColumnRenamed(\"Indicator Code\", \"indicator_code\")\n",
    "df.printSchema()"
   ]
  },
  {
   "cell_type": "code",
   "execution_count": 15,
   "metadata": {},
   "outputs": [
    {
     "name": "stdout",
     "output_type": "stream",
     "text": [
      "+--------------------+------------+--------------------+-----------------+----+----+----+----+----+----+----+----+----+----+----+----+----+----+----+----+----+----+----+----+----+----+----+----+----+----+----+----+----+----+----+----+----+----+----+----+----+----+----+----+----------------+----------------+----------------+----------------+----------------+----------------+----------------+----------------+----------------+----------------+----------------+----------------+----------------+----------------+----------------+----------------+----------------+----------------+----------------+----------------+----------------+----+\n",
      "|        country_name|country_code|      indicator_name|   indicator_code|1960|1961|1962|1963|1964|1965|1966|1967|1968|1969|1970|1971|1972|1973|1974|1975|1976|1977|1978|1979|1980|1981|1982|1983|1984|1985|1986|1987|1988|1989|1990|1991|1992|1993|1994|1995|1996|1997|1998|1999|            2000|            2001|            2002|            2003|            2004|            2005|            2006|            2007|            2008|            2009|            2010|            2011|            2012|            2013|            2014|            2015|            2016|            2017|            2018|            2019|            2020|2021|\n",
      "+--------------------+------------+--------------------+-----------------+----+----+----+----+----+----+----+----+----+----+----+----+----+----+----+----+----+----+----+----+----+----+----+----+----+----+----+----+----+----+----+----+----+----+----+----+----+----+----+----+----------------+----------------+----------------+----------------+----------------+----------------+----------------+----------------+----------------+----------------+----------------+----------------+----------------+----------------+----------------+----------------+----------------+----------------+----------------+----------------+----------------+----+\n",
      "|Africa Eastern an...|         AFE|Access to clean f...|   EG.CFT.ACCS.ZS|    |    |    |    |    |    |    |    |    |    |    |    |    |    |    |    |    |    |    |    |    |    |    |    |    |    |    |    |    |    |    |    |    |    |    |    |    |    |    |    |11.5696259007967|11.9151389016096|12.2569935314407|12.6034691204175|12.9661064999649| 13.374962995881|13.8637670284558| 14.324713926489|14.7241218031951|15.1727442987004|15.5510054788234|16.0271653825138|16.4339992302038|16.7890434673854|17.1969857948132|17.5971757021967|18.0342493911412|18.3458780723546|18.6953056959887|19.1499422830714|19.5018373155115|    |\n",
      "|Africa Eastern an...|         AFE|Access to clean f...|EG.CFT.ACCS.RU.ZS|    |    |    |    |    |    |    |    |    |    |    |    |    |    |    |    |    |    |    |    |    |    |    |    |    |    |    |    |    |    |    |    |    |    |    |    |    |    |    |    |3.54550113794341|3.73078050108843|3.87701702218195|4.09347364828092|4.32417197721909|4.53603126489342|4.81356127324315|5.02013428829699|5.28205621424329|5.50608590198657|5.75907754293893|5.99136388204052|6.19654348784626|6.39791679373469|6.58006622202003|6.78621801581067|6.94132323089145|7.09684299721268|7.25482807057078|7.46078295393556|7.59928856389562|    |\n",
      "|Africa Eastern an...|         AFE|Access to clean f...|EG.CFT.ACCS.UR.ZS|    |    |    |    |    |    |    |    |    |    |    |    |    |    |    |    |    |    |    |    |    |    |    |    |    |    |    |    |    |    |    |    |    |    |    |    |    |    |    |    |32.5661350478474|32.8768625549154|33.2790401126701|33.7798346445365|34.2648979251877|34.7439292552058|35.1816700739043|35.7989542401768|36.1592185507092|36.6210538703276|36.8962682500689|37.1839577786591|37.4348762186112|37.6608640161141|37.8575262054069|38.2041726664234|38.3035152873238|38.4218130764757|38.4824089338151|38.6920529949576|38.7939833193673|    |\n",
      "+--------------------+------------+--------------------+-----------------+----+----+----+----+----+----+----+----+----+----+----+----+----+----+----+----+----+----+----+----+----+----+----+----+----+----+----+----+----+----+----+----+----+----+----+----+----+----+----+----+----------------+----------------+----------------+----------------+----------------+----------------+----------------+----------------+----------------+----------------+----------------+----------------+----------------+----------------+----------------+----------------+----------------+----------------+----------------+----------------+----------------+----+\n",
      "only showing top 3 rows\n",
      "\n"
     ]
    }
   ],
   "source": [
    "df.show(n=3)"
   ]
  },
  {
   "cell_type": "code",
   "execution_count": null,
   "metadata": {},
   "outputs": [],
   "source": []
  }
 ],
 "metadata": {
  "kernelspec": {
   "display_name": "Python 3",
   "language": "python",
   "name": "python3"
  },
  "language_info": {
   "codemirror_mode": {
    "name": "ipython",
    "version": 3
   },
   "file_extension": ".py",
   "mimetype": "text/x-python",
   "name": "python",
   "nbconvert_exporter": "python",
   "pygments_lexer": "ipython3",
   "version": "3.9.0"
  },
  "orig_nbformat": 4,
  "vscode": {
   "interpreter": {
    "hash": "52634da84371cba311ea128a5ea7cdc41ff074b781779e754b270ff9f8153cee"
   }
  }
 },
 "nbformat": 4,
 "nbformat_minor": 2
}
